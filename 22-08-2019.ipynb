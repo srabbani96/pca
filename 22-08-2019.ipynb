{
 "cells": [
  {
   "cell_type": "code",
   "execution_count": 1,
   "metadata": {},
   "outputs": [],
   "source": [
    "import pandas as  pd\n",
    "import numpy as np\n",
    "import matplotlib.pyplot as plt\n",
    "\n"
   ]
  },
  {
   "cell_type": "code",
   "execution_count": 2,
   "metadata": {},
   "outputs": [
    {
     "data": {
      "text/plain": [
       "'C:\\\\Users\\\\srabb'"
      ]
     },
     "execution_count": 2,
     "metadata": {},
     "output_type": "execute_result"
    }
   ],
   "source": [
    "pwd"
   ]
  },
  {
   "cell_type": "code",
   "execution_count": 3,
   "metadata": {},
   "outputs": [],
   "source": [
    "uni = pd.read_csv(\"scorecard2019.csv\")"
   ]
  },
  {
   "cell_type": "code",
   "execution_count": 4,
   "metadata": {},
   "outputs": [
    {
     "data": {
      "text/html": [
       "<div>\n",
       "<style scoped>\n",
       "    .dataframe tbody tr th:only-of-type {\n",
       "        vertical-align: middle;\n",
       "    }\n",
       "\n",
       "    .dataframe tbody tr th {\n",
       "        vertical-align: top;\n",
       "    }\n",
       "\n",
       "    .dataframe thead th {\n",
       "        text-align: right;\n",
       "    }\n",
       "</style>\n",
       "<table border=\"1\" class=\"dataframe\">\n",
       "  <thead>\n",
       "    <tr style=\"text-align: right;\">\n",
       "      <th></th>\n",
       "      <th>Batsmen</th>\n",
       "      <th>Runs</th>\n",
       "      <th>Balls</th>\n",
       "      <th>Fours</th>\n",
       "      <th>sixes</th>\n",
       "    </tr>\n",
       "  </thead>\n",
       "  <tbody>\n",
       "    <tr>\n",
       "      <th>0</th>\n",
       "      <td>DA Warner</td>\n",
       "      <td>692</td>\n",
       "      <td>481</td>\n",
       "      <td>688</td>\n",
       "      <td>51</td>\n",
       "    </tr>\n",
       "    <tr>\n",
       "      <th>1</th>\n",
       "      <td>Q de Kock †</td>\n",
       "      <td>529</td>\n",
       "      <td>398</td>\n",
       "      <td>625</td>\n",
       "      <td>41</td>\n",
       "    </tr>\n",
       "    <tr>\n",
       "      <th>2</th>\n",
       "      <td>S Dhawan</td>\n",
       "      <td>521</td>\n",
       "      <td>384</td>\n",
       "      <td>598</td>\n",
       "      <td>61</td>\n",
       "    </tr>\n",
       "    <tr>\n",
       "      <th>3</th>\n",
       "      <td>AD Russell</td>\n",
       "      <td>510</td>\n",
       "      <td>249</td>\n",
       "      <td>369</td>\n",
       "      <td>33</td>\n",
       "    </tr>\n",
       "    <tr>\n",
       "      <th>4</th>\n",
       "      <td>RR Pant †</td>\n",
       "      <td>488</td>\n",
       "      <td>300</td>\n",
       "      <td>523</td>\n",
       "      <td>37</td>\n",
       "    </tr>\n",
       "  </tbody>\n",
       "</table>\n",
       "</div>"
      ],
      "text/plain": [
       "       Batsmen  Runs  Balls  Fours  sixes\n",
       "0    DA Warner   692    481    688     51\n",
       "1  Q de Kock †   529    398    625     41\n",
       "2     S Dhawan   521    384    598     61\n",
       "3   AD Russell   510    249    369     33\n",
       "4    RR Pant †   488    300    523     37"
      ]
     },
     "execution_count": 4,
     "metadata": {},
     "output_type": "execute_result"
    }
   ],
   "source": [
    "uni.head()"
   ]
  },
  {
   "cell_type": "code",
   "execution_count": 5,
   "metadata": {},
   "outputs": [
    {
     "data": {
      "text/plain": [
       "(156, 5)"
      ]
     },
     "execution_count": 5,
     "metadata": {},
     "output_type": "execute_result"
    }
   ],
   "source": [
    "uni.shape"
   ]
  },
  {
   "cell_type": "code",
   "execution_count": 6,
   "metadata": {},
   "outputs": [
    {
     "data": {
      "text/html": [
       "<div>\n",
       "<style scoped>\n",
       "    .dataframe tbody tr th:only-of-type {\n",
       "        vertical-align: middle;\n",
       "    }\n",
       "\n",
       "    .dataframe tbody tr th {\n",
       "        vertical-align: top;\n",
       "    }\n",
       "\n",
       "    .dataframe thead th {\n",
       "        text-align: right;\n",
       "    }\n",
       "</style>\n",
       "<table border=\"1\" class=\"dataframe\">\n",
       "  <thead>\n",
       "    <tr style=\"text-align: right;\">\n",
       "      <th></th>\n",
       "      <th>Runs</th>\n",
       "      <th>Balls</th>\n",
       "      <th>Fours</th>\n",
       "      <th>sixes</th>\n",
       "    </tr>\n",
       "  </thead>\n",
       "  <tbody>\n",
       "    <tr>\n",
       "      <th>count</th>\n",
       "      <td>156.000000</td>\n",
       "      <td>156.000000</td>\n",
       "      <td>156.000000</td>\n",
       "      <td>156.000000</td>\n",
       "    </tr>\n",
       "    <tr>\n",
       "      <th>mean</th>\n",
       "      <td>118.326923</td>\n",
       "      <td>88.474359</td>\n",
       "      <td>135.057692</td>\n",
       "      <td>10.006410</td>\n",
       "    </tr>\n",
       "    <tr>\n",
       "      <th>std</th>\n",
       "      <td>153.147206</td>\n",
       "      <td>109.551900</td>\n",
       "      <td>165.403836</td>\n",
       "      <td>13.725181</td>\n",
       "    </tr>\n",
       "    <tr>\n",
       "      <th>min</th>\n",
       "      <td>0.000000</td>\n",
       "      <td>0.000000</td>\n",
       "      <td>0.000000</td>\n",
       "      <td>0.000000</td>\n",
       "    </tr>\n",
       "    <tr>\n",
       "      <th>25%</th>\n",
       "      <td>6.000000</td>\n",
       "      <td>8.000000</td>\n",
       "      <td>13.000000</td>\n",
       "      <td>0.000000</td>\n",
       "    </tr>\n",
       "    <tr>\n",
       "      <th>50%</th>\n",
       "      <td>41.000000</td>\n",
       "      <td>35.500000</td>\n",
       "      <td>55.000000</td>\n",
       "      <td>3.000000</td>\n",
       "    </tr>\n",
       "    <tr>\n",
       "      <th>75%</th>\n",
       "      <td>184.500000</td>\n",
       "      <td>143.500000</td>\n",
       "      <td>217.250000</td>\n",
       "      <td>16.000000</td>\n",
       "    </tr>\n",
       "    <tr>\n",
       "      <th>max</th>\n",
       "      <td>692.000000</td>\n",
       "      <td>481.000000</td>\n",
       "      <td>688.000000</td>\n",
       "      <td>61.000000</td>\n",
       "    </tr>\n",
       "  </tbody>\n",
       "</table>\n",
       "</div>"
      ],
      "text/plain": [
       "             Runs       Balls       Fours       sixes\n",
       "count  156.000000  156.000000  156.000000  156.000000\n",
       "mean   118.326923   88.474359  135.057692   10.006410\n",
       "std    153.147206  109.551900  165.403836   13.725181\n",
       "min      0.000000    0.000000    0.000000    0.000000\n",
       "25%      6.000000    8.000000   13.000000    0.000000\n",
       "50%     41.000000   35.500000   55.000000    3.000000\n",
       "75%    184.500000  143.500000  217.250000   16.000000\n",
       "max    692.000000  481.000000  688.000000   61.000000"
      ]
     },
     "execution_count": 6,
     "metadata": {},
     "output_type": "execute_result"
    }
   ],
   "source": [
    "uni.describe()"
   ]
  },
  {
   "cell_type": "code",
   "execution_count": 7,
   "metadata": {},
   "outputs": [
    {
     "data": {
      "text/plain": [
       "(156, 5)"
      ]
     },
     "execution_count": 7,
     "metadata": {},
     "output_type": "execute_result"
    }
   ],
   "source": [
    "uni.shape"
   ]
  },
  {
   "cell_type": "code",
   "execution_count": 8,
   "metadata": {},
   "outputs": [],
   "source": [
    "from sklearn.decomposition import PCA\n",
    "from sklearn.preprocessing import scale\n",
    "import sklearn as sk"
   ]
  },
  {
   "cell_type": "code",
   "execution_count": 9,
   "metadata": {},
   "outputs": [
    {
     "data": {
      "text/plain": [
       "<function sklearn.preprocessing.data.scale(X, axis=0, with_mean=True, with_std=True, copy=True)>"
      ]
     },
     "execution_count": 9,
     "metadata": {},
     "output_type": "execute_result"
    }
   ],
   "source": [
    "sk.preprocessing.scale"
   ]
  },
  {
   "cell_type": "code",
   "execution_count": 10,
   "metadata": {},
   "outputs": [
    {
     "data": {
      "text/html": [
       "<div>\n",
       "<style scoped>\n",
       "    .dataframe tbody tr th:only-of-type {\n",
       "        vertical-align: middle;\n",
       "    }\n",
       "\n",
       "    .dataframe tbody tr th {\n",
       "        vertical-align: top;\n",
       "    }\n",
       "\n",
       "    .dataframe thead th {\n",
       "        text-align: right;\n",
       "    }\n",
       "</style>\n",
       "<table border=\"1\" class=\"dataframe\">\n",
       "  <thead>\n",
       "    <tr style=\"text-align: right;\">\n",
       "      <th></th>\n",
       "      <th>Batsmen</th>\n",
       "      <th>Runs</th>\n",
       "      <th>Balls</th>\n",
       "      <th>Fours</th>\n",
       "      <th>sixes</th>\n",
       "    </tr>\n",
       "  </thead>\n",
       "  <tbody>\n",
       "    <tr>\n",
       "      <th>0</th>\n",
       "      <td>DA Warner</td>\n",
       "      <td>692</td>\n",
       "      <td>481</td>\n",
       "      <td>688</td>\n",
       "      <td>51</td>\n",
       "    </tr>\n",
       "    <tr>\n",
       "      <th>1</th>\n",
       "      <td>Q de Kock †</td>\n",
       "      <td>529</td>\n",
       "      <td>398</td>\n",
       "      <td>625</td>\n",
       "      <td>41</td>\n",
       "    </tr>\n",
       "    <tr>\n",
       "      <th>2</th>\n",
       "      <td>S Dhawan</td>\n",
       "      <td>521</td>\n",
       "      <td>384</td>\n",
       "      <td>598</td>\n",
       "      <td>61</td>\n",
       "    </tr>\n",
       "    <tr>\n",
       "      <th>3</th>\n",
       "      <td>AD Russell</td>\n",
       "      <td>510</td>\n",
       "      <td>249</td>\n",
       "      <td>369</td>\n",
       "      <td>33</td>\n",
       "    </tr>\n",
       "    <tr>\n",
       "      <th>4</th>\n",
       "      <td>RR Pant †</td>\n",
       "      <td>488</td>\n",
       "      <td>300</td>\n",
       "      <td>523</td>\n",
       "      <td>37</td>\n",
       "    </tr>\n",
       "  </tbody>\n",
       "</table>\n",
       "</div>"
      ],
      "text/plain": [
       "       Batsmen  Runs  Balls  Fours  sixes\n",
       "0    DA Warner   692    481    688     51\n",
       "1  Q de Kock †   529    398    625     41\n",
       "2     S Dhawan   521    384    598     61\n",
       "3   AD Russell   510    249    369     33\n",
       "4    RR Pant †   488    300    523     37"
      ]
     },
     "execution_count": 10,
     "metadata": {},
     "output_type": "execute_result"
    }
   ],
   "source": [
    "uni.head()"
   ]
  },
  {
   "cell_type": "code",
   "execution_count": 11,
   "metadata": {},
   "outputs": [
    {
     "name": "stderr",
     "output_type": "stream",
     "text": [
      "C:\\Users\\srabb\\Anaconda3\\lib\\site-packages\\ipykernel_launcher.py:1: UserWarning: Pandas doesn't allow columns to be created via a new attribute name - see https://pandas.pydata.org/pandas-docs/stable/indexing.html#attribute-access\n",
      "  \"\"\"Entry point for launching an IPython kernel.\n"
     ]
    }
   ],
   "source": [
    "uni.data= uni.iloc[:,1:]"
   ]
  },
  {
   "cell_type": "code",
   "execution_count": 12,
   "metadata": {},
   "outputs": [
    {
     "data": {
      "text/html": [
       "<div>\n",
       "<style scoped>\n",
       "    .dataframe tbody tr th:only-of-type {\n",
       "        vertical-align: middle;\n",
       "    }\n",
       "\n",
       "    .dataframe tbody tr th {\n",
       "        vertical-align: top;\n",
       "    }\n",
       "\n",
       "    .dataframe thead th {\n",
       "        text-align: right;\n",
       "    }\n",
       "</style>\n",
       "<table border=\"1\" class=\"dataframe\">\n",
       "  <thead>\n",
       "    <tr style=\"text-align: right;\">\n",
       "      <th></th>\n",
       "      <th>Runs</th>\n",
       "      <th>Balls</th>\n",
       "      <th>Fours</th>\n",
       "      <th>sixes</th>\n",
       "    </tr>\n",
       "  </thead>\n",
       "  <tbody>\n",
       "    <tr>\n",
       "      <th>0</th>\n",
       "      <td>692</td>\n",
       "      <td>481</td>\n",
       "      <td>688</td>\n",
       "      <td>51</td>\n",
       "    </tr>\n",
       "    <tr>\n",
       "      <th>1</th>\n",
       "      <td>529</td>\n",
       "      <td>398</td>\n",
       "      <td>625</td>\n",
       "      <td>41</td>\n",
       "    </tr>\n",
       "    <tr>\n",
       "      <th>2</th>\n",
       "      <td>521</td>\n",
       "      <td>384</td>\n",
       "      <td>598</td>\n",
       "      <td>61</td>\n",
       "    </tr>\n",
       "    <tr>\n",
       "      <th>3</th>\n",
       "      <td>510</td>\n",
       "      <td>249</td>\n",
       "      <td>369</td>\n",
       "      <td>33</td>\n",
       "    </tr>\n",
       "    <tr>\n",
       "      <th>4</th>\n",
       "      <td>488</td>\n",
       "      <td>300</td>\n",
       "      <td>523</td>\n",
       "      <td>37</td>\n",
       "    </tr>\n",
       "  </tbody>\n",
       "</table>\n",
       "</div>"
      ],
      "text/plain": [
       "   Runs  Balls  Fours  sixes\n",
       "0   692    481    688     51\n",
       "1   529    398    625     41\n",
       "2   521    384    598     61\n",
       "3   510    249    369     33\n",
       "4   488    300    523     37"
      ]
     },
     "execution_count": 12,
     "metadata": {},
     "output_type": "execute_result"
    }
   ],
   "source": [
    "uni.data.head()"
   ]
  },
  {
   "cell_type": "code",
   "execution_count": 13,
   "metadata": {},
   "outputs": [],
   "source": [
    "import sklearn as sk\n",
    "from sklearn.preprocessing import scale"
   ]
  },
  {
   "cell_type": "code",
   "execution_count": 14,
   "metadata": {},
   "outputs": [
    {
     "name": "stderr",
     "output_type": "stream",
     "text": [
      "C:\\Users\\srabb\\Anaconda3\\lib\\site-packages\\ipykernel_launcher.py:1: DataConversionWarning: Data with input dtype int64 were all converted to float64 by the scale function.\n",
      "  \"\"\"Entry point for launching an IPython kernel.\n"
     ]
    },
    {
     "data": {
      "text/plain": [
       "numpy.ndarray"
      ]
     },
     "execution_count": 14,
     "metadata": {},
     "output_type": "execute_result"
    }
   ],
   "source": [
    "uni_normal=scale(uni.data)\n",
    "type(uni_normal)"
   ]
  },
  {
   "cell_type": "code",
   "execution_count": 15,
   "metadata": {},
   "outputs": [
    {
     "data": {
      "text/plain": [
       "pandas.core.frame.DataFrame"
      ]
     },
     "execution_count": 15,
     "metadata": {},
     "output_type": "execute_result"
    }
   ],
   "source": [
    "uni_normal1=pd.DataFrame(uni_normal)\n",
    "uni_normal1.head()\n",
    "type(uni_normal1)"
   ]
  },
  {
   "cell_type": "code",
   "execution_count": 18,
   "metadata": {},
   "outputs": [],
   "source": [
    "pcs=PCA()\n",
    "pca_value= PCA().fit_transform(uni_normal1)\n",
    "pca_value= pcs.fit_transform(uni_normal1)\n"
   ]
  },
  {
   "cell_type": "code",
   "execution_count": 34,
   "metadata": {},
   "outputs": [
    {
     "data": {
      "text/plain": [
       "numpy.ndarray"
      ]
     },
     "execution_count": 34,
     "metadata": {},
     "output_type": "execute_result"
    }
   ],
   "source": [
    "type(pca_value)"
   ]
  },
  {
   "cell_type": "code",
   "execution_count": 23,
   "metadata": {},
   "outputs": [
    {
     "data": {
      "text/plain": [
       "array([0.97650112, 0.01607765, 0.00532014, 0.0021011 ])"
      ]
     },
     "execution_count": 23,
     "metadata": {},
     "output_type": "execute_result"
    }
   ],
   "source": [
    "var=pcs.explained_variance_ratio_\n",
    "var"
   ]
  },
  {
   "cell_type": "code",
   "execution_count": 26,
   "metadata": {},
   "outputs": [
    {
     "data": {
      "text/html": [
       "<div>\n",
       "<style scoped>\n",
       "    .dataframe tbody tr th:only-of-type {\n",
       "        vertical-align: middle;\n",
       "    }\n",
       "\n",
       "    .dataframe tbody tr th {\n",
       "        vertical-align: top;\n",
       "    }\n",
       "\n",
       "    .dataframe thead th {\n",
       "        text-align: right;\n",
       "    }\n",
       "</style>\n",
       "<table border=\"1\" class=\"dataframe\">\n",
       "  <thead>\n",
       "    <tr style=\"text-align: right;\">\n",
       "      <th></th>\n",
       "      <th>0</th>\n",
       "      <th>1</th>\n",
       "      <th>2</th>\n",
       "      <th>3</th>\n",
       "    </tr>\n",
       "  </thead>\n",
       "  <tbody>\n",
       "    <tr>\n",
       "      <th>0</th>\n",
       "      <td>0.502128</td>\n",
       "      <td>0.502747</td>\n",
       "      <td>0.500945</td>\n",
       "      <td>0.494132</td>\n",
       "    </tr>\n",
       "    <tr>\n",
       "      <th>1</th>\n",
       "      <td>0.063057</td>\n",
       "      <td>0.337914</td>\n",
       "      <td>0.424107</td>\n",
       "      <td>-0.837837</td>\n",
       "    </tr>\n",
       "    <tr>\n",
       "      <th>2</th>\n",
       "      <td>0.820120</td>\n",
       "      <td>-0.075934</td>\n",
       "      <td>-0.517922</td>\n",
       "      <td>-0.231071</td>\n",
       "    </tr>\n",
       "    <tr>\n",
       "      <th>3</th>\n",
       "      <td>-0.267009</td>\n",
       "      <td>0.792018</td>\n",
       "      <td>-0.548584</td>\n",
       "      <td>0.021650</td>\n",
       "    </tr>\n",
       "  </tbody>\n",
       "</table>\n",
       "</div>"
      ],
      "text/plain": [
       "          0         1         2         3\n",
       "0  0.502128  0.502747  0.500945  0.494132\n",
       "1  0.063057  0.337914  0.424107 -0.837837\n",
       "2  0.820120 -0.075934 -0.517922 -0.231071\n",
       "3 -0.267009  0.792018 -0.548584  0.021650"
      ]
     },
     "execution_count": 26,
     "metadata": {},
     "output_type": "execute_result"
    }
   ],
   "source": [
    "(pcs.components_)\n",
    "pccomp = pd.DataFrame(pcs.components_)\n",
    "pccomp"
   ]
  },
  {
   "cell_type": "code",
   "execution_count": 27,
   "metadata": {},
   "outputs": [
    {
     "data": {
      "text/plain": [
       "array([0.97650112, 0.01607765, 0.00532014, 0.0021011 ])"
      ]
     },
     "execution_count": 27,
     "metadata": {},
     "output_type": "execute_result"
    }
   ],
   "source": [
    "var"
   ]
  },
  {
   "cell_type": "code",
   "execution_count": 28,
   "metadata": {},
   "outputs": [
    {
     "data": {
      "text/plain": [
       "array([ 97.65,  99.26,  99.79, 100.  ])"
      ]
     },
     "execution_count": 28,
     "metadata": {},
     "output_type": "execute_result"
    }
   ],
   "source": [
    "cumvar= np.cumsum(np.round(var,decimals=4)*100)\n",
    "cumvar"
   ]
  },
  {
   "cell_type": "code",
   "execution_count": 29,
   "metadata": {},
   "outputs": [
    {
     "data": {
      "image/png": "[encoded data removed]",
      "text/plain": [
       "<Figure size 432x288 with 1 Axes>"
      ]
     },
     "metadata": {
      "needs_background": "light"
     },
     "output_type": "display_data"
    }
   ],
   "source": [
    "plt.plot(cumvar,color=\"blue\")\n",
    "plt.show()"
   ]
  },
  {
   "cell_type": "code",
   "execution_count": 32,
   "metadata": {},
   "outputs": [
    {
     "data": {
      "image/png": "[encoded data removed]",
      "text/plain": [
       "<Figure size 432x288 with 1 Axes>"
      ]
     },
     "metadata": {
      "needs_background": "light"
     },
     "output_type": "display_data"
    }
   ],
   "source": [
    "plt.plot(var,color=\"blue\")\n",
    "plt.show()"
   ]
  },
  {
   "cell_type": "code",
   "execution_count": 37,
   "metadata": {},
   "outputs": [
    {
     "data": {
      "text/html": [
       "<div>\n",
       "<style scoped>\n",
       "    .dataframe tbody tr th:only-of-type {\n",
       "        vertical-align: middle;\n",
       "    }\n",
       "\n",
       "    .dataframe tbody tr th {\n",
       "        vertical-align: top;\n",
       "    }\n",
       "\n",
       "    .dataframe thead th {\n",
       "        text-align: right;\n",
       "    }\n",
       "</style>\n",
       "<table border=\"1\" class=\"dataframe\">\n",
       "  <thead>\n",
       "    <tr style=\"text-align: right;\">\n",
       "      <th></th>\n",
       "      <th>0</th>\n",
       "      <th>1</th>\n",
       "      <th>2</th>\n",
       "      <th>3</th>\n",
       "    </tr>\n",
       "  </thead>\n",
       "  <tbody>\n",
       "    <tr>\n",
       "      <th>0</th>\n",
       "      <td>6.854770</td>\n",
       "      <td>0.363499</td>\n",
       "      <td>0.379675</td>\n",
       "      <td>0.068599</td>\n",
       "    </tr>\n",
       "    <tr>\n",
       "      <th>1</th>\n",
       "      <td>5.383896</td>\n",
       "      <td>0.489678</td>\n",
       "      <td>-0.071502</td>\n",
       "      <td>-0.054493</td>\n",
       "    </tr>\n",
       "    <tr>\n",
       "      <th>2</th>\n",
       "      <td>5.933447</td>\n",
       "      <td>-0.851209</td>\n",
       "      <td>-0.357725</td>\n",
       "      <td>-0.020555</td>\n",
       "    </tr>\n",
       "    <tr>\n",
       "      <th>3</th>\n",
       "      <td>3.568652</td>\n",
       "      <td>-0.147836</td>\n",
       "      <td>0.869335</td>\n",
       "      <td>-0.262810</td>\n",
       "    </tr>\n",
       "    <tr>\n",
       "      <th>4</th>\n",
       "      <td>4.343468</td>\n",
       "      <td>0.152071</td>\n",
       "      <td>0.164353</td>\n",
       "      <td>-0.360509</td>\n",
       "    </tr>\n",
       "    <tr>\n",
       "      <th>5</th>\n",
       "      <td>5.035940</td>\n",
       "      <td>0.453083</td>\n",
       "      <td>-0.360006</td>\n",
       "      <td>0.015585</td>\n",
       "    </tr>\n",
       "    <tr>\n",
       "      <th>6</th>\n",
       "      <td>4.308308</td>\n",
       "      <td>-0.094852</td>\n",
       "      <td>0.063900</td>\n",
       "      <td>-0.057477</td>\n",
       "    </tr>\n",
       "    <tr>\n",
       "      <th>7</th>\n",
       "      <td>4.059911</td>\n",
       "      <td>-0.798718</td>\n",
       "      <td>0.195247</td>\n",
       "      <td>0.031541</td>\n",
       "    </tr>\n",
       "    <tr>\n",
       "      <th>8</th>\n",
       "      <td>3.638426</td>\n",
       "      <td>0.041986</td>\n",
       "      <td>0.355078</td>\n",
       "      <td>0.001974</td>\n",
       "    </tr>\n",
       "    <tr>\n",
       "      <th>9</th>\n",
       "      <td>4.317693</td>\n",
       "      <td>-0.196332</td>\n",
       "      <td>-0.170668</td>\n",
       "      <td>0.049871</td>\n",
       "    </tr>\n",
       "    <tr>\n",
       "      <th>10</th>\n",
       "      <td>3.348045</td>\n",
       "      <td>0.850138</td>\n",
       "      <td>0.291646</td>\n",
       "      <td>0.089787</td>\n",
       "    </tr>\n",
       "    <tr>\n",
       "      <th>11</th>\n",
       "      <td>3.709098</td>\n",
       "      <td>-0.179883</td>\n",
       "      <td>0.030883</td>\n",
       "      <td>-0.152742</td>\n",
       "    </tr>\n",
       "    <tr>\n",
       "      <th>12</th>\n",
       "      <td>3.853241</td>\n",
       "      <td>-0.333534</td>\n",
       "      <td>-0.036265</td>\n",
       "      <td>0.022998</td>\n",
       "    </tr>\n",
       "    <tr>\n",
       "      <th>13</th>\n",
       "      <td>4.131383</td>\n",
       "      <td>-0.393592</td>\n",
       "      <td>-0.160862</td>\n",
       "      <td>0.149176</td>\n",
       "    </tr>\n",
       "    <tr>\n",
       "      <th>14</th>\n",
       "      <td>2.798235</td>\n",
       "      <td>-0.145338</td>\n",
       "      <td>0.478039</td>\n",
       "      <td>-0.263281</td>\n",
       "    </tr>\n",
       "    <tr>\n",
       "      <th>15</th>\n",
       "      <td>3.759000</td>\n",
       "      <td>-0.230753</td>\n",
       "      <td>0.048275</td>\n",
       "      <td>0.301442</td>\n",
       "    </tr>\n",
       "    <tr>\n",
       "      <th>16</th>\n",
       "      <td>3.980568</td>\n",
       "      <td>0.321616</td>\n",
       "      <td>-0.243575</td>\n",
       "      <td>0.001209</td>\n",
       "    </tr>\n",
       "    <tr>\n",
       "      <th>17</th>\n",
       "      <td>3.539953</td>\n",
       "      <td>-0.241183</td>\n",
       "      <td>-0.069869</td>\n",
       "      <td>0.260175</td>\n",
       "    </tr>\n",
       "    <tr>\n",
       "      <th>18</th>\n",
       "      <td>3.728236</td>\n",
       "      <td>-0.662424</td>\n",
       "      <td>-0.387096</td>\n",
       "      <td>-0.091586</td>\n",
       "    </tr>\n",
       "    <tr>\n",
       "      <th>19</th>\n",
       "      <td>2.410286</td>\n",
       "      <td>-0.172668</td>\n",
       "      <td>0.431003</td>\n",
       "      <td>0.279182</td>\n",
       "    </tr>\n",
       "    <tr>\n",
       "      <th>20</th>\n",
       "      <td>3.273686</td>\n",
       "      <td>-0.909187</td>\n",
       "      <td>-0.142552</td>\n",
       "      <td>-0.032755</td>\n",
       "    </tr>\n",
       "    <tr>\n",
       "      <th>21</th>\n",
       "      <td>3.235965</td>\n",
       "      <td>-0.047038</td>\n",
       "      <td>-0.186138</td>\n",
       "      <td>-0.033958</td>\n",
       "    </tr>\n",
       "    <tr>\n",
       "      <th>22</th>\n",
       "      <td>2.368267</td>\n",
       "      <td>0.371931</td>\n",
       "      <td>0.242392</td>\n",
       "      <td>0.043857</td>\n",
       "    </tr>\n",
       "    <tr>\n",
       "      <th>23</th>\n",
       "      <td>2.781953</td>\n",
       "      <td>0.361853</td>\n",
       "      <td>-0.116142</td>\n",
       "      <td>-0.110066</td>\n",
       "    </tr>\n",
       "    <tr>\n",
       "      <th>24</th>\n",
       "      <td>2.568382</td>\n",
       "      <td>0.439882</td>\n",
       "      <td>-0.223174</td>\n",
       "      <td>-0.110548</td>\n",
       "    </tr>\n",
       "    <tr>\n",
       "      <th>25</th>\n",
       "      <td>2.114338</td>\n",
       "      <td>0.174881</td>\n",
       "      <td>0.131433</td>\n",
       "      <td>0.405660</td>\n",
       "    </tr>\n",
       "    <tr>\n",
       "      <th>26</th>\n",
       "      <td>2.951948</td>\n",
       "      <td>1.115288</td>\n",
       "      <td>-0.572368</td>\n",
       "      <td>0.041194</td>\n",
       "    </tr>\n",
       "    <tr>\n",
       "      <th>27</th>\n",
       "      <td>2.109202</td>\n",
       "      <td>0.062675</td>\n",
       "      <td>-0.160599</td>\n",
       "      <td>-0.184004</td>\n",
       "    </tr>\n",
       "    <tr>\n",
       "      <th>28</th>\n",
       "      <td>1.878885</td>\n",
       "      <td>0.102159</td>\n",
       "      <td>-0.172203</td>\n",
       "      <td>-0.275446</td>\n",
       "    </tr>\n",
       "    <tr>\n",
       "      <th>29</th>\n",
       "      <td>1.386068</td>\n",
       "      <td>0.700213</td>\n",
       "      <td>0.114676</td>\n",
       "      <td>0.040967</td>\n",
       "    </tr>\n",
       "    <tr>\n",
       "      <th>...</th>\n",
       "      <td>...</td>\n",
       "      <td>...</td>\n",
       "      <td>...</td>\n",
       "      <td>...</td>\n",
       "    </tr>\n",
       "    <tr>\n",
       "      <th>126</th>\n",
       "      <td>-1.463625</td>\n",
       "      <td>0.015438</td>\n",
       "      <td>-0.021522</td>\n",
       "      <td>-0.010051</td>\n",
       "    </tr>\n",
       "    <tr>\n",
       "      <th>127</th>\n",
       "      <td>-1.486987</td>\n",
       "      <td>-0.092143</td>\n",
       "      <td>0.002761</td>\n",
       "      <td>-0.004805</td>\n",
       "    </tr>\n",
       "    <tr>\n",
       "      <th>128</th>\n",
       "      <td>-1.492787</td>\n",
       "      <td>-0.006076</td>\n",
       "      <td>-0.004209</td>\n",
       "      <td>0.007736</td>\n",
       "    </tr>\n",
       "    <tr>\n",
       "      <th>129</th>\n",
       "      <td>-1.445553</td>\n",
       "      <td>0.031503</td>\n",
       "      <td>-0.040850</td>\n",
       "      <td>-0.007105</td>\n",
       "    </tr>\n",
       "    <tr>\n",
       "      <th>130</th>\n",
       "      <td>-1.471518</td>\n",
       "      <td>0.011930</td>\n",
       "      <td>-0.026199</td>\n",
       "      <td>-0.015555</td>\n",
       "    </tr>\n",
       "    <tr>\n",
       "      <th>131</th>\n",
       "      <td>-1.495918</td>\n",
       "      <td>-0.007120</td>\n",
       "      <td>-0.009101</td>\n",
       "      <td>-0.013424</td>\n",
       "    </tr>\n",
       "    <tr>\n",
       "      <th>132</th>\n",
       "      <td>-1.520317</td>\n",
       "      <td>-0.026171</td>\n",
       "      <td>0.007996</td>\n",
       "      <td>-0.011293</td>\n",
       "    </tr>\n",
       "    <tr>\n",
       "      <th>133</th>\n",
       "      <td>-1.509795</td>\n",
       "      <td>-0.017301</td>\n",
       "      <td>0.000538</td>\n",
       "      <td>0.012215</td>\n",
       "    </tr>\n",
       "    <tr>\n",
       "      <th>134</th>\n",
       "      <td>-1.540271</td>\n",
       "      <td>-0.041496</td>\n",
       "      <td>0.023918</td>\n",
       "      <td>0.021000</td>\n",
       "    </tr>\n",
       "    <tr>\n",
       "      <th>135</th>\n",
       "      <td>-1.536011</td>\n",
       "      <td>-0.034714</td>\n",
       "      <td>0.006675</td>\n",
       "      <td>0.002187</td>\n",
       "    </tr>\n",
       "    <tr>\n",
       "      <th>136</th>\n",
       "      <td>-1.523858</td>\n",
       "      <td>-0.024425</td>\n",
       "      <td>-0.005890</td>\n",
       "      <td>-0.011122</td>\n",
       "    </tr>\n",
       "    <tr>\n",
       "      <th>137</th>\n",
       "      <td>-1.543653</td>\n",
       "      <td>-0.040381</td>\n",
       "      <td>0.010512</td>\n",
       "      <td>-0.001739</td>\n",
       "    </tr>\n",
       "    <tr>\n",
       "      <th>138</th>\n",
       "      <td>-1.523858</td>\n",
       "      <td>-0.024425</td>\n",
       "      <td>-0.005890</td>\n",
       "      <td>-0.011122</td>\n",
       "    </tr>\n",
       "    <tr>\n",
       "      <th>139</th>\n",
       "      <td>-1.557372</td>\n",
       "      <td>-0.051192</td>\n",
       "      <td>0.020632</td>\n",
       "      <td>0.000990</td>\n",
       "    </tr>\n",
       "    <tr>\n",
       "      <th>140</th>\n",
       "      <td>-1.475151</td>\n",
       "      <td>0.015204</td>\n",
       "      <td>-0.048118</td>\n",
       "      <td>-0.039872</td>\n",
       "    </tr>\n",
       "    <tr>\n",
       "      <th>141</th>\n",
       "      <td>-1.549981</td>\n",
       "      <td>-0.043366</td>\n",
       "      <td>0.008281</td>\n",
       "      <td>0.003338</td>\n",
       "    </tr>\n",
       "    <tr>\n",
       "      <th>142</th>\n",
       "      <td>-1.525581</td>\n",
       "      <td>-0.024316</td>\n",
       "      <td>-0.008816</td>\n",
       "      <td>0.001207</td>\n",
       "    </tr>\n",
       "    <tr>\n",
       "      <th>143</th>\n",
       "      <td>-1.528712</td>\n",
       "      <td>-0.025360</td>\n",
       "      <td>-0.013708</td>\n",
       "      <td>-0.019953</td>\n",
       "    </tr>\n",
       "    <tr>\n",
       "      <th>144</th>\n",
       "      <td>-1.528620</td>\n",
       "      <td>-0.026888</td>\n",
       "      <td>-0.005675</td>\n",
       "      <td>0.004534</td>\n",
       "    </tr>\n",
       "    <tr>\n",
       "      <th>145</th>\n",
       "      <td>-1.549981</td>\n",
       "      <td>-0.043366</td>\n",
       "      <td>0.008281</td>\n",
       "      <td>0.003338</td>\n",
       "    </tr>\n",
       "    <tr>\n",
       "      <th>146</th>\n",
       "      <td>-1.533224</td>\n",
       "      <td>-0.029982</td>\n",
       "      <td>-0.004980</td>\n",
       "      <td>-0.002719</td>\n",
       "    </tr>\n",
       "    <tr>\n",
       "      <th>147</th>\n",
       "      <td>-1.533316</td>\n",
       "      <td>-0.028454</td>\n",
       "      <td>-0.013013</td>\n",
       "      <td>-0.027206</td>\n",
       "    </tr>\n",
       "    <tr>\n",
       "      <th>148</th>\n",
       "      <td>-1.554585</td>\n",
       "      <td>-0.046461</td>\n",
       "      <td>0.008976</td>\n",
       "      <td>-0.003915</td>\n",
       "    </tr>\n",
       "    <tr>\n",
       "      <th>149</th>\n",
       "      <td>-1.565266</td>\n",
       "      <td>-0.054700</td>\n",
       "      <td>0.015955</td>\n",
       "      <td>-0.004513</td>\n",
       "    </tr>\n",
       "    <tr>\n",
       "      <th>150</th>\n",
       "      <td>-1.560662</td>\n",
       "      <td>-0.051605</td>\n",
       "      <td>0.015259</td>\n",
       "      <td>0.002739</td>\n",
       "    </tr>\n",
       "    <tr>\n",
       "      <th>151</th>\n",
       "      <td>-1.562227</td>\n",
       "      <td>-0.052127</td>\n",
       "      <td>0.012813</td>\n",
       "      <td>-0.007841</td>\n",
       "    </tr>\n",
       "    <tr>\n",
       "      <th>152</th>\n",
       "      <td>-1.542431</td>\n",
       "      <td>-0.036171</td>\n",
       "      <td>-0.003589</td>\n",
       "      <td>-0.017224</td>\n",
       "    </tr>\n",
       "    <tr>\n",
       "      <th>153</th>\n",
       "      <td>-1.560662</td>\n",
       "      <td>-0.051605</td>\n",
       "      <td>0.015259</td>\n",
       "      <td>0.002739</td>\n",
       "    </tr>\n",
       "    <tr>\n",
       "      <th>154</th>\n",
       "      <td>-1.543904</td>\n",
       "      <td>-0.038222</td>\n",
       "      <td>0.001998</td>\n",
       "      <td>-0.003317</td>\n",
       "    </tr>\n",
       "    <tr>\n",
       "      <th>155</th>\n",
       "      <td>-1.560662</td>\n",
       "      <td>-0.051605</td>\n",
       "      <td>0.015259</td>\n",
       "      <td>0.002739</td>\n",
       "    </tr>\n",
       "  </tbody>\n",
       "</table>\n",
       "<p>156 rows × 4 columns</p>\n",
       "</div>"
      ],
      "text/plain": [
       "            0         1         2         3\n",
       "0    6.854770  0.363499  0.379675  0.068599\n",
       "1    5.383896  0.489678 -0.071502 -0.054493\n",
       "2    5.933447 -0.851209 -0.357725 -0.020555\n",
       "3    3.568652 -0.147836  0.869335 -0.262810\n",
       "4    4.343468  0.152071  0.164353 -0.360509\n",
       "5    5.035940  0.453083 -0.360006  0.015585\n",
       "6    4.308308 -0.094852  0.063900 -0.057477\n",
       "7    4.059911 -0.798718  0.195247  0.031541\n",
       "8    3.638426  0.041986  0.355078  0.001974\n",
       "9    4.317693 -0.196332 -0.170668  0.049871\n",
       "10   3.348045  0.850138  0.291646  0.089787\n",
       "11   3.709098 -0.179883  0.030883 -0.152742\n",
       "12   3.853241 -0.333534 -0.036265  0.022998\n",
       "13   4.131383 -0.393592 -0.160862  0.149176\n",
       "14   2.798235 -0.145338  0.478039 -0.263281\n",
       "15   3.759000 -0.230753  0.048275  0.301442\n",
       "16   3.980568  0.321616 -0.243575  0.001209\n",
       "17   3.539953 -0.241183 -0.069869  0.260175\n",
       "18   3.728236 -0.662424 -0.387096 -0.091586\n",
       "19   2.410286 -0.172668  0.431003  0.279182\n",
       "20   3.273686 -0.909187 -0.142552 -0.032755\n",
       "21   3.235965 -0.047038 -0.186138 -0.033958\n",
       "22   2.368267  0.371931  0.242392  0.043857\n",
       "23   2.781953  0.361853 -0.116142 -0.110066\n",
       "24   2.568382  0.439882 -0.223174 -0.110548\n",
       "25   2.114338  0.174881  0.131433  0.405660\n",
       "26   2.951948  1.115288 -0.572368  0.041194\n",
       "27   2.109202  0.062675 -0.160599 -0.184004\n",
       "28   1.878885  0.102159 -0.172203 -0.275446\n",
       "29   1.386068  0.700213  0.114676  0.040967\n",
       "..        ...       ...       ...       ...\n",
       "126 -1.463625  0.015438 -0.021522 -0.010051\n",
       "127 -1.486987 -0.092143  0.002761 -0.004805\n",
       "128 -1.492787 -0.006076 -0.004209  0.007736\n",
       "129 -1.445553  0.031503 -0.040850 -0.007105\n",
       "130 -1.471518  0.011930 -0.026199 -0.015555\n",
       "131 -1.495918 -0.007120 -0.009101 -0.013424\n",
       "132 -1.520317 -0.026171  0.007996 -0.011293\n",
       "133 -1.509795 -0.017301  0.000538  0.012215\n",
       "134 -1.540271 -0.041496  0.023918  0.021000\n",
       "135 -1.536011 -0.034714  0.006675  0.002187\n",
       "136 -1.523858 -0.024425 -0.005890 -0.011122\n",
       "137 -1.543653 -0.040381  0.010512 -0.001739\n",
       "138 -1.523858 -0.024425 -0.005890 -0.011122\n",
       "139 -1.557372 -0.051192  0.020632  0.000990\n",
       "140 -1.475151  0.015204 -0.048118 -0.039872\n",
       "141 -1.549981 -0.043366  0.008281  0.003338\n",
       "142 -1.525581 -0.024316 -0.008816  0.001207\n",
       "143 -1.528712 -0.025360 -0.013708 -0.019953\n",
       "144 -1.528620 -0.026888 -0.005675  0.004534\n",
       "145 -1.549981 -0.043366  0.008281  0.003338\n",
       "146 -1.533224 -0.029982 -0.004980 -0.002719\n",
       "147 -1.533316 -0.028454 -0.013013 -0.027206\n",
       "148 -1.554585 -0.046461  0.008976 -0.003915\n",
       "149 -1.565266 -0.054700  0.015955 -0.004513\n",
       "150 -1.560662 -0.051605  0.015259  0.002739\n",
       "151 -1.562227 -0.052127  0.012813 -0.007841\n",
       "152 -1.542431 -0.036171 -0.003589 -0.017224\n",
       "153 -1.560662 -0.051605  0.015259  0.002739\n",
       "154 -1.543904 -0.038222  0.001998 -0.003317\n",
       "155 -1.560662 -0.051605  0.015259  0.002739\n",
       "\n",
       "[156 rows x 4 columns]"
      ]
     },
     "execution_count": 37,
     "metadata": {},
     "output_type": "execute_result"
    }
   ],
   "source": [
    "type(pca_value)\n",
    "pcs =pd.DataFrame(pca_value)\n",
    "pcs"
   ]
  },
  {
   "cell_type": "code",
   "execution_count": 39,
   "metadata": {},
   "outputs": [
    {
     "data": {
      "text/html": [
       "<div>\n",
       "<style scoped>\n",
       "    .dataframe tbody tr th:only-of-type {\n",
       "        vertical-align: middle;\n",
       "    }\n",
       "\n",
       "    .dataframe tbody tr th {\n",
       "        vertical-align: top;\n",
       "    }\n",
       "\n",
       "    .dataframe thead th {\n",
       "        text-align: right;\n",
       "    }\n",
       "</style>\n",
       "<table border=\"1\" class=\"dataframe\">\n",
       "  <thead>\n",
       "    <tr style=\"text-align: right;\">\n",
       "      <th></th>\n",
       "      <th>0</th>\n",
       "      <th>1</th>\n",
       "      <th>2</th>\n",
       "    </tr>\n",
       "  </thead>\n",
       "  <tbody>\n",
       "    <tr>\n",
       "      <th>0</th>\n",
       "      <td>6.854770</td>\n",
       "      <td>0.363499</td>\n",
       "      <td>0.379675</td>\n",
       "    </tr>\n",
       "    <tr>\n",
       "      <th>1</th>\n",
       "      <td>5.383896</td>\n",
       "      <td>0.489678</td>\n",
       "      <td>-0.071502</td>\n",
       "    </tr>\n",
       "    <tr>\n",
       "      <th>2</th>\n",
       "      <td>5.933447</td>\n",
       "      <td>-0.851209</td>\n",
       "      <td>-0.357725</td>\n",
       "    </tr>\n",
       "    <tr>\n",
       "      <th>3</th>\n",
       "      <td>3.568652</td>\n",
       "      <td>-0.147836</td>\n",
       "      <td>0.869335</td>\n",
       "    </tr>\n",
       "    <tr>\n",
       "      <th>4</th>\n",
       "      <td>4.343468</td>\n",
       "      <td>0.152071</td>\n",
       "      <td>0.164353</td>\n",
       "    </tr>\n",
       "  </tbody>\n",
       "</table>\n",
       "</div>"
      ],
      "text/plain": [
       "          0         1         2\n",
       "0  6.854770  0.363499  0.379675\n",
       "1  5.383896  0.489678 -0.071502\n",
       "2  5.933447 -0.851209 -0.357725\n",
       "3  3.568652 -0.147836  0.869335\n",
       "4  4.343468  0.152071  0.164353"
      ]
     },
     "execution_count": 39,
     "metadata": {},
     "output_type": "execute_result"
    }
   ],
   "source": [
    "new_df = pd.DataFrame(pca_value[:,0:3])\n",
    "new_df.head()"
   ]
  },
  {
   "cell_type": "code",
   "execution_count": 40,
   "metadata": {},
   "outputs": [],
   "source": [
    "from sklearn.cluster import KMeans"
   ]
  },
  {
   "cell_type": "code",
   "execution_count": 41,
   "metadata": {},
   "outputs": [
    {
     "data": {
      "text/plain": [
       "array([3, 3, 3, 0, 0, 3, 0, 0, 0, 0, 0, 0, 0, 0, 0, 0, 0, 0, 0, 0, 0, 0,\n",
       "       0, 0, 0, 2, 0, 2, 2, 2, 2, 2, 2, 2, 2, 2, 2, 2, 2, 2, 2, 2, 2, 2,\n",
       "       2, 2, 2, 2, 2, 2, 2, 2, 2, 1, 2, 2, 2, 1, 2, 1, 1, 1, 1, 1, 1, 1,\n",
       "       1, 1, 1, 1, 1, 1, 1, 1, 1, 1, 1, 1, 1, 1, 1, 1, 1, 1, 1, 1, 1, 1,\n",
       "       1, 1, 1, 1, 1, 1, 1, 1, 1, 1, 1, 1, 1, 1, 1, 1, 1, 1, 1, 1, 1, 1,\n",
       "       1, 1, 1, 1, 1, 1, 1, 1, 1, 1, 1, 1, 1, 1, 1, 1, 1, 1, 1, 1, 1, 1,\n",
       "       1, 1, 1, 1, 1, 1, 1, 1, 1, 1, 1, 1, 1, 1, 1, 1, 1, 1, 1, 1, 1, 1,\n",
       "       1, 1])"
      ]
     },
     "execution_count": 41,
     "metadata": {},
     "output_type": "execute_result"
    }
   ],
   "source": [
    "m1 = KMeans(n_clusters = 4)\n",
    "m1.fit(new_df)\n",
    "m1.labels_"
   ]
  },
  {
   "cell_type": "code",
   "execution_count": 42,
   "metadata": {},
   "outputs": [
    {
     "data": {
      "text/html": [
       "<div>\n",
       "<style scoped>\n",
       "    .dataframe tbody tr th:only-of-type {\n",
       "        vertical-align: middle;\n",
       "    }\n",
       "\n",
       "    .dataframe tbody tr th {\n",
       "        vertical-align: top;\n",
       "    }\n",
       "\n",
       "    .dataframe thead th {\n",
       "        text-align: right;\n",
       "    }\n",
       "</style>\n",
       "<table border=\"1\" class=\"dataframe\">\n",
       "  <thead>\n",
       "    <tr style=\"text-align: right;\">\n",
       "      <th></th>\n",
       "      <th>Batsmen</th>\n",
       "      <th>Runs</th>\n",
       "      <th>Balls</th>\n",
       "      <th>Fours</th>\n",
       "      <th>sixes</th>\n",
       "    </tr>\n",
       "  </thead>\n",
       "  <tbody>\n",
       "    <tr>\n",
       "      <th>0</th>\n",
       "      <td>DA Warner</td>\n",
       "      <td>692</td>\n",
       "      <td>481</td>\n",
       "      <td>688</td>\n",
       "      <td>51</td>\n",
       "    </tr>\n",
       "    <tr>\n",
       "      <th>1</th>\n",
       "      <td>Q de Kock †</td>\n",
       "      <td>529</td>\n",
       "      <td>398</td>\n",
       "      <td>625</td>\n",
       "      <td>41</td>\n",
       "    </tr>\n",
       "    <tr>\n",
       "      <th>2</th>\n",
       "      <td>S Dhawan</td>\n",
       "      <td>521</td>\n",
       "      <td>384</td>\n",
       "      <td>598</td>\n",
       "      <td>61</td>\n",
       "    </tr>\n",
       "    <tr>\n",
       "      <th>3</th>\n",
       "      <td>AD Russell</td>\n",
       "      <td>510</td>\n",
       "      <td>249</td>\n",
       "      <td>369</td>\n",
       "      <td>33</td>\n",
       "    </tr>\n",
       "    <tr>\n",
       "      <th>4</th>\n",
       "      <td>RR Pant †</td>\n",
       "      <td>488</td>\n",
       "      <td>300</td>\n",
       "      <td>523</td>\n",
       "      <td>37</td>\n",
       "    </tr>\n",
       "  </tbody>\n",
       "</table>\n",
       "</div>"
      ],
      "text/plain": [
       "       Batsmen  Runs  Balls  Fours  sixes\n",
       "0    DA Warner   692    481    688     51\n",
       "1  Q de Kock †   529    398    625     41\n",
       "2     S Dhawan   521    384    598     61\n",
       "3   AD Russell   510    249    369     33\n",
       "4    RR Pant †   488    300    523     37"
      ]
     },
     "execution_count": 42,
     "metadata": {},
     "output_type": "execute_result"
    }
   ],
   "source": [
    "uni.head()"
   ]
  },
  {
   "cell_type": "code",
   "execution_count": null,
   "metadata": {},
   "outputs": [],
   "source": []
  }
 ],
 "metadata": {
  "kernelspec": {
   "display_name": "Python 3",
   "language": "python",
   "name": "python3"
  },
  "language_info": {
   "codemirror_mode": {
    "name": "ipython",
    "version": 3
   },
   "file_extension": ".py",
   "mimetype": "text/x-python",
   "name": "python",
   "nbconvert_exporter": "python",
   "pygments_lexer": "ipython3",
   "version": "3.7.1"
  }
 },
 "nbformat": 4,
 "nbformat_minor": 2
}
